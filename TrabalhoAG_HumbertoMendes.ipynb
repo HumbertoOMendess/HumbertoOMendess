{
  "nbformat": 4,
  "nbformat_minor": 0,
  "metadata": {
    "colab": {
      "provenance": [],
      "include_colab_link": true
    },
    "kernelspec": {
      "name": "python3",
      "display_name": "Python 3"
    }
  },
  "cells": [
    {
      "cell_type": "markdown",
      "metadata": {
        "id": "view-in-github",
        "colab_type": "text"
      },
      "source": [
        "<a href=\"https://colab.research.google.com/github/HumbertoOMendess/HumbertoOMendess/blob/main/TrabalhoAG_HumbertoMendes.ipynb\" target=\"_parent\"><img src=\"https://colab.research.google.com/assets/colab-badge.svg\" alt=\"Open In Colab\"/></a>"
      ]
    },
    {
      "cell_type": "markdown",
      "metadata": {
        "id": "NyDMJ8Mg4Kjd"
      },
      "source": [
        "# Imports necessários"
      ]
    },
    {
      "cell_type": "code",
      "metadata": {
        "id": "7N6zf0BG4Fd4"
      },
      "source": [
        "import numpy as np\n",
        "from random import randint, uniform\n",
        "import matplotlib.pyplot as plt"
      ],
      "execution_count": 157,
      "outputs": []
    },
    {
      "cell_type": "markdown",
      "metadata": {
        "id": "cpnotNGl4WHU"
      },
      "source": [
        "# Classe do algoritmo genético"
      ]
    },
    {
      "cell_type": "code",
      "metadata": {
        "id": "IJQLiktN4agI"
      },
      "source": [
        "class AG(object):\n",
        "    def __init__(self, limitantes, tamanho_populacao_inicial, numero_geracoes, taxa_mutacao, taxacrossover, numero_bits=10): #Inicialização dos valores que serão utilizado durante o trabalho.\n",
        "        self.limite_inferior = limitantes[0]\n",
        "        self.limite_superior = limitantes[1]\n",
        "        self.numero_geracoes = numero_geracoes\n",
        "        self.taxa_mutacao = taxa_mutacao\n",
        "        self.taxacrossover = taxacrossover\n",
        "        self.numero_bits = numero_bits\n",
        "        self.tamanho_populacao_inicial = tamanho_populacao_inicial\n",
        "        self.populacao = self.geracao_populacao_inicial()\n",
        "\n",
        "    def geracao_populacao_inicial(self): #Função responsavel por gerar a população inicial.\n",
        "        cromossomos = []\n",
        "        for _ in range(self.tamanho_populacao_inicial):\n",
        "            cromossomos.append(np.random.randint(2, size=self.numero_bits))\n",
        "        return cromossomos\n",
        "    \n",
        "    @staticmethod\n",
        "    def converter_binario(cromossomo): #Função responsavel por converter os numeros.\n",
        "        s = \"0b\"\n",
        "        for bit in cromossomo:\n",
        "            s += str(bit)\n",
        "        return int(s, 2)\n",
        "  \n",
        "    def mapear_cromossomo(self, cromossomo): #Função responsavel por mapear um valor entre -10 e 10.\n",
        "        return self.limite_inferior + (self.limite_superior - self.limite_inferior) * self.converter_binario(cromossomo) / (2 ** self.numero_bits - 1)\n",
        "\n",
        "    @staticmethod\n",
        "    def funcao_aptidao(x): #Função de aptidão para calcular X.\n",
        "        return x * x - 3 * x + 4\n",
        "    \n",
        "    def torneio(self): #Função responsavel por realizar o torneio que seleciona aleatoriamente dois cromossomos da população e seleciona o mais apto.\n",
        "        melhor_cromossomo = None\n",
        "        for _ in range(2):\n",
        "            pos_cromossomo = randint(0, len(self.populacao) - 1)\n",
        "            cromossomo_desafiante = self.populacao[pos_cromossomo]\n",
        "            if melhor_cromossomo is None or self.funcao_aptidao(self.mapear_cromossomo(melhor_cromossomo)) < self.funcao_aptidao(self.mapear_cromossomo(cromossomo_desafiante)):\n",
        "                melhor_cromossomo = cromossomo_desafiante\n",
        "        return melhor_cromossomo\n",
        "\n",
        "    def crossover(self, pai_1, pai_2): #Função responsavel por receber dois pais e gerar dois filhos.\n",
        "        filho_1 = np.copy(pai_1)\n",
        "        filho_2 = np.copy(pai_2)\n",
        "        probabilidade = uniform(0, 1)\n",
        "        if probabilidade <= self.taxacrossover:\n",
        "            pos_recorte_1 = randint(0, self.numero_bits - 1)\n",
        "            pos_recorte_2 = randint(pos_recorte_1 + 1, self.numero_bits)\n",
        "            filho_1[pos_recorte_1:pos_recorte_2] = pai_2[pos_recorte_1:pos_recorte_2]\n",
        "            filho_2[pos_recorte_1:pos_recorte_2] = pai_1[pos_recorte_1:pos_recorte_2]\n",
        "        return filho_1, filho_2\n",
        "    \n",
        "    def mutacao(self, cromossomo): #Função responsável por realizar a mutação de um cromossomo.\n",
        "        for i in range(self.numero_bits):\n",
        "            probabilidade = uniform(0, 1)\n",
        "            if probabilidade <= self.taxa_mutacao:\n",
        "                cromossomo[i] = 1 - cromossomo[i]\n",
        "    \n",
        "    def gerar_pontos(self, lista_pontos): #Função necessária para gerar pontos em relaçao a seleção do melhor cromossomo.\n",
        "        tam_lista = len(lista_pontos)\n",
        "        vetor = np.empty(tam_lista)\n",
        "        for i in range(tam_lista):\n",
        "            vetor[i] = self.mapear_cromossomo(lista_pontos[i])\n",
        "        return vetor\n",
        "    \n",
        "    def selecionar_melhor(self): #Função reponsavel por seleciona o melhor cromossomo na população.\n",
        "        vetor_pontos = self.gerar_pontos(self.populacao)\n",
        "        pos_melhor = int(np.argmax(self.funcao_aptidao(vetor_pontos)))\n",
        "        melhor_binario = self.populacao[pos_melhor]\n",
        "        return vetor_pontos[pos_melhor], melhor_binario\n",
        "\n",
        "    def selecionar(self): #Função responsavel por gerar novas populaçoes, e por chamar funçoes para calcular crossover, mutação, torneio.\n",
        "        melhor_cromossomo, _ = self.selecionar_melhor()\n",
        "        print(\"Melho indivíduo da geração 1: x= {:.5f}\".format(melhor_cromossomo))\n",
        "        historico = [self.populacao.copy()]\n",
        "        for geracao in range(self.numero_geracoes):\n",
        "            prox_geracao = []\n",
        "            while len(prox_geracao) < self.tamanho_populacao_inicial:\n",
        "                pai_1 = self.torneio()\n",
        "                pai_2 = self.torneio()\n",
        "                filho_1, filho_2 = self.crossover(pai_1, pai_2)\n",
        "                self.mutacao(filho_1)\n",
        "                self.mutacao(filho_2)\n",
        "                prox_geracao.append(filho_1)\n",
        "                prox_geracao.append(filho_2)\n",
        "            melhor_cromossomo, melhor_binario = self.selecionar_melhor()\n",
        "            prox_geracao.append(melhor_binario)\n",
        "            if (geracao + 1) % 1 == 0:\n",
        "                print(\"Melho indivíduo da geração {:d}: x= {:.5f}\".format(geracao + 1, melhor_cromossomo))\n",
        "                historico.append(prox_geracao.copy())\n",
        "            self.populacao = prox_geracao"
      ],
      "execution_count": 158,
      "outputs": []
    },
    {
      "cell_type": "markdown",
      "metadata": {
        "id": "8TOwcczp7o4i"
      },
      "source": [
        "## Função main para realizar os testes"
      ]
    },
    {
      "cell_type": "code",
      "metadata": {
        "id": "tV7fW_M-7tvg",
        "outputId": "afa93a8c-1f27-48f1-dcae-2aff70d07257",
        "colab": {
          "base_uri": "https://localhost:8080/"
        }
      },
      "source": [
        "def main():\n",
        "    algoritmo_genetico = AG([-10, 10], 30, 50, 0.01, 0.7, 10) #Passagem de parametros para a função init.\n",
        "    algoritmo_genetico.selecionar() #Chamada da função para selecionar o melhor individuo de cada geração.\n",
        "    \n",
        "\n",
        "if __name__ == '__main__':\n",
        "    main()"
      ],
      "execution_count": 159,
      "outputs": [
        {
          "output_type": "stream",
          "name": "stdout",
          "text": [
            "Melho indivíduo da geração 1: x= -8.24047\n",
            "Melho indivíduo da geração 1: x= -8.24047\n",
            "Melho indivíduo da geração 2: x= -8.24047\n",
            "Melho indivíduo da geração 3: x= -9.90225\n",
            "Melho indivíduo da geração 4: x= -9.96090\n",
            "Melho indivíduo da geração 5: x= -9.96090\n",
            "Melho indivíduo da geração 6: x= -9.96090\n",
            "Melho indivíduo da geração 7: x= -9.96090\n",
            "Melho indivíduo da geração 8: x= -10.00000\n",
            "Melho indivíduo da geração 9: x= -10.00000\n",
            "Melho indivíduo da geração 10: x= -10.00000\n",
            "Melho indivíduo da geração 11: x= -10.00000\n",
            "Melho indivíduo da geração 12: x= -10.00000\n",
            "Melho indivíduo da geração 13: x= -10.00000\n",
            "Melho indivíduo da geração 14: x= -10.00000\n",
            "Melho indivíduo da geração 15: x= -10.00000\n",
            "Melho indivíduo da geração 16: x= -10.00000\n",
            "Melho indivíduo da geração 17: x= -10.00000\n",
            "Melho indivíduo da geração 18: x= -10.00000\n",
            "Melho indivíduo da geração 19: x= -10.00000\n",
            "Melho indivíduo da geração 20: x= -10.00000\n",
            "Melho indivíduo da geração 21: x= -10.00000\n",
            "Melho indivíduo da geração 22: x= -10.00000\n",
            "Melho indivíduo da geração 23: x= -10.00000\n",
            "Melho indivíduo da geração 24: x= -10.00000\n",
            "Melho indivíduo da geração 25: x= -10.00000\n",
            "Melho indivíduo da geração 26: x= -10.00000\n",
            "Melho indivíduo da geração 27: x= -10.00000\n",
            "Melho indivíduo da geração 28: x= -10.00000\n",
            "Melho indivíduo da geração 29: x= -10.00000\n",
            "Melho indivíduo da geração 30: x= -10.00000\n",
            "Melho indivíduo da geração 31: x= -10.00000\n",
            "Melho indivíduo da geração 32: x= -10.00000\n",
            "Melho indivíduo da geração 33: x= -10.00000\n",
            "Melho indivíduo da geração 34: x= -10.00000\n",
            "Melho indivíduo da geração 35: x= -10.00000\n",
            "Melho indivíduo da geração 36: x= -10.00000\n",
            "Melho indivíduo da geração 37: x= -10.00000\n",
            "Melho indivíduo da geração 38: x= -10.00000\n",
            "Melho indivíduo da geração 39: x= -10.00000\n",
            "Melho indivíduo da geração 40: x= -10.00000\n",
            "Melho indivíduo da geração 41: x= -10.00000\n",
            "Melho indivíduo da geração 42: x= -10.00000\n",
            "Melho indivíduo da geração 43: x= -10.00000\n",
            "Melho indivíduo da geração 44: x= -10.00000\n",
            "Melho indivíduo da geração 45: x= -10.00000\n",
            "Melho indivíduo da geração 46: x= -10.00000\n",
            "Melho indivíduo da geração 47: x= -10.00000\n",
            "Melho indivíduo da geração 48: x= -10.00000\n",
            "Melho indivíduo da geração 49: x= -10.00000\n",
            "Melho indivíduo da geração 50: x= -10.00000\n"
          ]
        }
      ]
    }
  ]
}